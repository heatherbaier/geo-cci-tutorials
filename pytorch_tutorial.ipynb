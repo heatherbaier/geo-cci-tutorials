{
 "cells": [
  {
   "cell_type": "code",
   "execution_count": 1,
   "id": "f7d5e39b",
   "metadata": {},
   "outputs": [],
   "source": [
    "from torchvision import transforms, models\n",
    "import matplotlib.pyplot as plt\n",
    "from sklearn import metrics\n",
    "from copy import deepcopy\n",
    "from PIL import Image\n",
    "import pandas as pd\n",
    "import numpy as np\n",
    "import torchvision\n",
    "import random\n",
    "import torch"
   ]
  },
  {
   "cell_type": "code",
   "execution_count": 2,
   "id": "558d3c9f",
   "metadata": {},
   "outputs": [],
   "source": [
    "import os\n",
    "os.environ[\"CUDA_DEVICE_ORDER\"] = \"PCI_BUS_ID\" \n",
    "os.environ[\"CUDA_VISIBLE_DEVICES\"] = \"4\""
   ]
  },
  {
   "cell_type": "markdown",
   "id": "dd1f1ee2",
   "metadata": {},
   "source": [
    "#### Create a Transforms class. This is a set up transformations that you want to apply to each image in your dataset. The ToTensor and CenterCrop transforms are required and the Normalize transform is recommended. ALl other transforms are up to you to choose. See a list of transforms here: https://pytorch.org/vision/stable/transforms.html. Another fun site for transofmrs is here: https://imgaug.readthedocs.io/en/latest/"
   ]
  },
  {
   "cell_type": "code",
   "execution_count": 3,
   "id": "a20519a0",
   "metadata": {},
   "outputs": [],
   "source": [
    "tfs = transforms.Compose([\n",
    "        transforms.ToTensor(),\n",
    "        transforms.CenterCrop(256),\n",
    "        transforms.RandomHorizontalFlip(),\n",
    "        transforms.Normalize([0.485, 0.456, 0.406], [0.229, 0.224, 0.225])\n",
    "    ])"
   ]
  },
  {
   "cell_type": "markdown",
   "id": "65de2b7e",
   "metadata": {},
   "source": [
    "#### Create a dataloader class. This will store all of the imagery of individual schools in your dataset along with their associated test scores. It will handle splitting the data into training and validation sets and converting the sets into PyTorch's Dataloader format."
   ]
  },
  {
   "cell_type": "code",
   "execution_count": 4,
   "id": "1b3eb33c",
   "metadata": {},
   "outputs": [],
   "source": [
    "class Dataloader():\n",
    "    \n",
    "    def __init__(self, country, imagery_direc, scores_df, split, batch_size, tfs = None):\n",
    "        \"\"\"\n",
    "        Arguments:\n",
    "            country: one of ['mex', 'slv', 'peru', 'phl']\n",
    "            imagery_direc: path to folder containing school imagery\n",
    "            scores_df: path to CSV file with school IDs and test scroes\n",
    "            split: train/test split, should be between .01 and 1, recommended is between .65 and .8\n",
    "            batch_size: number of images in a batch\n",
    "        \"\"\"\n",
    "        self.country = country\n",
    "        self.imagery_direc = imagery_direc\n",
    "        self.imagery = os.listdir(self.imagery_direc)\n",
    "        self.imagery = [i for i in self.imagery if self.country in i]\n",
    "        self.scores_df = pd.read_csv(scores_df)\n",
    "        self.scores_df = self.scores_df[self.scores_df['country'] == self.country]\n",
    "        self.split = split\n",
    "        self.batch_size = batch_size\n",
    "        \n",
    "        if tfs is None:\n",
    "            self.tfs = transforms.ToTensor()\n",
    "        else:\n",
    "            self.tfs = tfs\n",
    "        \n",
    "        # Load the data into a list with the format [(school_image, school_test_score), ...]\n",
    "        self.data = self.load_data()\n",
    "        \n",
    "        # Split the data into training and validation sets\n",
    "        self.train, self.val = self.test_train_split()\n",
    "        \n",
    "        \n",
    "    def load_data(self):\n",
    "        \"\"\"\n",
    "        Load the imagery into a list in the format: [(imager_tensor, test_score), ...]\n",
    "        \"\"\"\n",
    "        data = []\n",
    "        for col, row in self.scores_df.iterrows():\n",
    "            school_id = str(row.school_id)\n",
    "            test_score = row.scaled_score\n",
    "            impath = [i for i in self.imagery if school_id in i]\n",
    "            if len(impath) > 0:\n",
    "                image = np.array(Image.open(self.imagery_direc + impath[0]))\n",
    "                image = self.tfs(image)\n",
    "                data.append((image, test_score))\n",
    "        return data\n",
    "                \n",
    "        \n",
    "    def test_train_split(self):\n",
    "        \"\"\"\n",
    "        Split the data into 4 parts:\n",
    "            x_train: imagery we use to train the model\n",
    "            y_train: test_scores matched to the iamgery in x_train\n",
    "            x_val: imagery used to test the model\n",
    "            y_val: test_scores matched to the iamgery in x_val\n",
    "        \"\"\"\n",
    "        train_num = int(len(self.data) * self.split)\n",
    "        val_num = int(len(self.data) - train_num)\n",
    "\n",
    "        all_indices = list(range(0, len(self.data)))\n",
    "        train_indices = random.sample(range(len(self.data)), train_num)\n",
    "        val_indices = list(np.setdiff1d(all_indices, train_indices))\n",
    "\n",
    "        x_train, x_val = [self.data[i][0] for i in train_indices], [self.data[i][0] for i in val_indices]\n",
    "        y_train, y_val = [self.data[i][1] for i in train_indices], [self.data[i][1] for i in val_indices]\n",
    "        \n",
    "        train = [(k,v) for k,v in zip(x_train, y_train)]\n",
    "        val = [(k,v) for k,v in zip(x_val, y_val)]\n",
    "\n",
    "        # Load the data into pytorch's Dataloader format\n",
    "        train = torch.utils.data.DataLoader(train, batch_size = self.batch_size, shuffle = True, drop_last = True)\n",
    "        val = torch.utils.data.DataLoader(val, batch_size = self.batch_size, shuffle = True, drop_last = True)\n",
    "\n",
    "        return train, val"
   ]
  },
  {
   "cell_type": "code",
   "execution_count": 5,
   "id": "baae3778",
   "metadata": {},
   "outputs": [],
   "source": [
    "COUNTRY = \"mex\"\n",
    "BATCH_SIZE = 4\n",
    "SPLIT = .75\n",
    "IMAGERY_DIREC = \"../../CCI/hmbaier/\"\n",
    "SCORES_DF = \"../../CCI/hmbaier/cci_example.csv\""
   ]
  },
  {
   "cell_type": "code",
   "execution_count": null,
   "id": "a48163a7",
   "metadata": {},
   "outputs": [
    {
     "ename": "KeyboardInterrupt",
     "evalue": "",
     "output_type": "error",
     "traceback": [
      "\u001b[0;31m---------------------------------------------------------------------------\u001b[0m",
      "\u001b[0;31mKeyboardInterrupt\u001b[0m                         Traceback (most recent call last)",
      "\u001b[0;32m<ipython-input-6-89f968e5e20f>\u001b[0m in \u001b[0;36m<module>\u001b[0;34m\u001b[0m\n\u001b[1;32m      4\u001b[0m                   \u001b[0msplit\u001b[0m \u001b[0;34m=\u001b[0m \u001b[0mSPLIT\u001b[0m\u001b[0;34m,\u001b[0m\u001b[0;34m\u001b[0m\u001b[0;34m\u001b[0m\u001b[0m\n\u001b[1;32m      5\u001b[0m                   \u001b[0mbatch_size\u001b[0m \u001b[0;34m=\u001b[0m \u001b[0mBATCH_SIZE\u001b[0m\u001b[0;34m,\u001b[0m\u001b[0;34m\u001b[0m\u001b[0;34m\u001b[0m\u001b[0m\n\u001b[0;32m----> 6\u001b[0;31m                   tfs = tfs)\n\u001b[0m\u001b[1;32m      7\u001b[0m \u001b[0mtrain_dl\u001b[0m\u001b[0;34m,\u001b[0m \u001b[0mval_dl\u001b[0m \u001b[0;34m=\u001b[0m \u001b[0mdata\u001b[0m\u001b[0;34m.\u001b[0m\u001b[0mtrain\u001b[0m\u001b[0;34m,\u001b[0m \u001b[0mdata\u001b[0m\u001b[0;34m.\u001b[0m\u001b[0mval\u001b[0m\u001b[0;34m\u001b[0m\u001b[0;34m\u001b[0m\u001b[0m\n",
      "\u001b[0;32m<ipython-input-4-de5b3a6d8f2b>\u001b[0m in \u001b[0;36m__init__\u001b[0;34m(self, country, imagery_direc, scores_df, split, batch_size, tfs)\u001b[0m\n\u001b[1;32m     25\u001b[0m \u001b[0;34m\u001b[0m\u001b[0m\n\u001b[1;32m     26\u001b[0m         \u001b[0;31m# Load the data into a list with the format [(school_image, school_test_score), ...]\u001b[0m\u001b[0;34m\u001b[0m\u001b[0;34m\u001b[0m\u001b[0;34m\u001b[0m\u001b[0m\n\u001b[0;32m---> 27\u001b[0;31m         \u001b[0mself\u001b[0m\u001b[0;34m.\u001b[0m\u001b[0mdata\u001b[0m \u001b[0;34m=\u001b[0m \u001b[0mself\u001b[0m\u001b[0;34m.\u001b[0m\u001b[0mload_data\u001b[0m\u001b[0;34m(\u001b[0m\u001b[0;34m)\u001b[0m\u001b[0;34m\u001b[0m\u001b[0;34m\u001b[0m\u001b[0m\n\u001b[0m\u001b[1;32m     28\u001b[0m \u001b[0;34m\u001b[0m\u001b[0m\n\u001b[1;32m     29\u001b[0m         \u001b[0;31m# Split the data into training and validation sets\u001b[0m\u001b[0;34m\u001b[0m\u001b[0;34m\u001b[0m\u001b[0;34m\u001b[0m\u001b[0m\n",
      "\u001b[0;32m<ipython-input-4-de5b3a6d8f2b>\u001b[0m in \u001b[0;36mload_data\u001b[0;34m(self)\u001b[0m\n\u001b[1;32m     41\u001b[0m             \u001b[0mimpath\u001b[0m \u001b[0;34m=\u001b[0m \u001b[0;34m[\u001b[0m\u001b[0mi\u001b[0m \u001b[0;32mfor\u001b[0m \u001b[0mi\u001b[0m \u001b[0;32min\u001b[0m \u001b[0mself\u001b[0m\u001b[0;34m.\u001b[0m\u001b[0mimagery\u001b[0m \u001b[0;32mif\u001b[0m \u001b[0mschool_id\u001b[0m \u001b[0;32min\u001b[0m \u001b[0mi\u001b[0m\u001b[0;34m]\u001b[0m\u001b[0;34m\u001b[0m\u001b[0;34m\u001b[0m\u001b[0m\n\u001b[1;32m     42\u001b[0m             \u001b[0;32mif\u001b[0m \u001b[0mlen\u001b[0m\u001b[0;34m(\u001b[0m\u001b[0mimpath\u001b[0m\u001b[0;34m)\u001b[0m \u001b[0;34m>\u001b[0m \u001b[0;36m0\u001b[0m\u001b[0;34m:\u001b[0m\u001b[0;34m\u001b[0m\u001b[0;34m\u001b[0m\u001b[0m\n\u001b[0;32m---> 43\u001b[0;31m                 \u001b[0mimage\u001b[0m \u001b[0;34m=\u001b[0m \u001b[0mnp\u001b[0m\u001b[0;34m.\u001b[0m\u001b[0marray\u001b[0m\u001b[0;34m(\u001b[0m\u001b[0mImage\u001b[0m\u001b[0;34m.\u001b[0m\u001b[0mopen\u001b[0m\u001b[0;34m(\u001b[0m\u001b[0mself\u001b[0m\u001b[0;34m.\u001b[0m\u001b[0mimagery_direc\u001b[0m \u001b[0;34m+\u001b[0m \u001b[0mimpath\u001b[0m\u001b[0;34m[\u001b[0m\u001b[0;36m0\u001b[0m\u001b[0;34m]\u001b[0m\u001b[0;34m)\u001b[0m\u001b[0;34m)\u001b[0m\u001b[0;34m\u001b[0m\u001b[0;34m\u001b[0m\u001b[0m\n\u001b[0m\u001b[1;32m     44\u001b[0m                 \u001b[0mimage\u001b[0m \u001b[0;34m=\u001b[0m \u001b[0mself\u001b[0m\u001b[0;34m.\u001b[0m\u001b[0mtfs\u001b[0m\u001b[0;34m(\u001b[0m\u001b[0mimage\u001b[0m\u001b[0;34m)\u001b[0m\u001b[0;34m\u001b[0m\u001b[0;34m\u001b[0m\u001b[0m\n\u001b[1;32m     45\u001b[0m                 \u001b[0mdata\u001b[0m\u001b[0;34m.\u001b[0m\u001b[0mappend\u001b[0m\u001b[0;34m(\u001b[0m\u001b[0;34m(\u001b[0m\u001b[0mimage\u001b[0m\u001b[0;34m,\u001b[0m \u001b[0mtest_score\u001b[0m\u001b[0;34m)\u001b[0m\u001b[0;34m)\u001b[0m\u001b[0;34m\u001b[0m\u001b[0;34m\u001b[0m\u001b[0m\n",
      "\u001b[0;32m/opt/conda/envs/rapids/lib/python3.7/site-packages/PIL/Image.py\u001b[0m in \u001b[0;36m__array__\u001b[0;34m(self, dtype)\u001b[0m\n\u001b[1;32m    696\u001b[0m             \u001b[0mnew\u001b[0m\u001b[0;34m[\u001b[0m\u001b[0;34m\"data\"\u001b[0m\u001b[0;34m]\u001b[0m \u001b[0;34m=\u001b[0m \u001b[0mself\u001b[0m\u001b[0;34m.\u001b[0m\u001b[0mtobytes\u001b[0m\u001b[0;34m(\u001b[0m\u001b[0;34m\"raw\"\u001b[0m\u001b[0;34m,\u001b[0m \u001b[0;34m\"L\"\u001b[0m\u001b[0;34m)\u001b[0m\u001b[0;34m\u001b[0m\u001b[0;34m\u001b[0m\u001b[0m\n\u001b[1;32m    697\u001b[0m         \u001b[0;32melse\u001b[0m\u001b[0;34m:\u001b[0m\u001b[0;34m\u001b[0m\u001b[0;34m\u001b[0m\u001b[0m\n\u001b[0;32m--> 698\u001b[0;31m             \u001b[0mnew\u001b[0m\u001b[0;34m[\u001b[0m\u001b[0;34m\"data\"\u001b[0m\u001b[0;34m]\u001b[0m \u001b[0;34m=\u001b[0m \u001b[0mself\u001b[0m\u001b[0;34m.\u001b[0m\u001b[0mtobytes\u001b[0m\u001b[0;34m(\u001b[0m\u001b[0;34m)\u001b[0m\u001b[0;34m\u001b[0m\u001b[0;34m\u001b[0m\u001b[0m\n\u001b[0m\u001b[1;32m    699\u001b[0m \u001b[0;34m\u001b[0m\u001b[0m\n\u001b[1;32m    700\u001b[0m         \u001b[0;32mclass\u001b[0m \u001b[0mArrayData\u001b[0m\u001b[0;34m:\u001b[0m\u001b[0;34m\u001b[0m\u001b[0;34m\u001b[0m\u001b[0m\n",
      "\u001b[0;32m/opt/conda/envs/rapids/lib/python3.7/site-packages/PIL/Image.py\u001b[0m in \u001b[0;36mtobytes\u001b[0;34m(self, encoder_name, *args)\u001b[0m\n\u001b[1;32m    742\u001b[0m             \u001b[0margs\u001b[0m \u001b[0;34m=\u001b[0m \u001b[0mself\u001b[0m\u001b[0;34m.\u001b[0m\u001b[0mmode\u001b[0m\u001b[0;34m\u001b[0m\u001b[0;34m\u001b[0m\u001b[0m\n\u001b[1;32m    743\u001b[0m \u001b[0;34m\u001b[0m\u001b[0m\n\u001b[0;32m--> 744\u001b[0;31m         \u001b[0mself\u001b[0m\u001b[0;34m.\u001b[0m\u001b[0mload\u001b[0m\u001b[0;34m(\u001b[0m\u001b[0;34m)\u001b[0m\u001b[0;34m\u001b[0m\u001b[0;34m\u001b[0m\u001b[0m\n\u001b[0m\u001b[1;32m    745\u001b[0m \u001b[0;34m\u001b[0m\u001b[0m\n\u001b[1;32m    746\u001b[0m         \u001b[0;31m# unpack data\u001b[0m\u001b[0;34m\u001b[0m\u001b[0;34m\u001b[0m\u001b[0;34m\u001b[0m\u001b[0m\n",
      "\u001b[0;32m/opt/conda/envs/rapids/lib/python3.7/site-packages/PIL/ImageFile.py\u001b[0m in \u001b[0;36mload\u001b[0;34m(self)\u001b[0m\n\u001b[1;32m    253\u001b[0m \u001b[0;34m\u001b[0m\u001b[0m\n\u001b[1;32m    254\u001b[0m                             \u001b[0mb\u001b[0m \u001b[0;34m=\u001b[0m \u001b[0mb\u001b[0m \u001b[0;34m+\u001b[0m \u001b[0ms\u001b[0m\u001b[0;34m\u001b[0m\u001b[0;34m\u001b[0m\u001b[0m\n\u001b[0;32m--> 255\u001b[0;31m                             \u001b[0mn\u001b[0m\u001b[0;34m,\u001b[0m \u001b[0merr_code\u001b[0m \u001b[0;34m=\u001b[0m \u001b[0mdecoder\u001b[0m\u001b[0;34m.\u001b[0m\u001b[0mdecode\u001b[0m\u001b[0;34m(\u001b[0m\u001b[0mb\u001b[0m\u001b[0;34m)\u001b[0m\u001b[0;34m\u001b[0m\u001b[0;34m\u001b[0m\u001b[0m\n\u001b[0m\u001b[1;32m    256\u001b[0m                             \u001b[0;32mif\u001b[0m \u001b[0mn\u001b[0m \u001b[0;34m<\u001b[0m \u001b[0;36m0\u001b[0m\u001b[0;34m:\u001b[0m\u001b[0;34m\u001b[0m\u001b[0;34m\u001b[0m\u001b[0m\n\u001b[1;32m    257\u001b[0m                                 \u001b[0;32mbreak\u001b[0m\u001b[0;34m\u001b[0m\u001b[0;34m\u001b[0m\u001b[0m\n",
      "\u001b[0;31mKeyboardInterrupt\u001b[0m: "
     ]
    }
   ],
   "source": [
    "data = Dataloader(country = COUNTRY, \n",
    "                  imagery_direc = IMAGERY_DIREC, \n",
    "                  scores_df = SCORES_DF,\n",
    "                  split = SPLIT,\n",
    "                  batch_size = BATCH_SIZE,\n",
    "                  tfs = tfs)\n",
    "train_dl, val_dl = data.train, data.val"
   ]
  },
  {
   "cell_type": "markdown",
   "id": "19520103",
   "metadata": {},
   "source": [
    "#### Plot a couple sample images from the dataset"
   ]
  },
  {
   "cell_type": "code",
   "execution_count": null,
   "id": "145522ba",
   "metadata": {},
   "outputs": [],
   "source": [
    "def imshow(inp, title=None):\n",
    "    \"\"\"Imshow for Tensor.\"\"\"\n",
    "    inp = inp.numpy().transpose((1, 2, 0))\n",
    "    mean = np.array([0.485, 0.456, 0.406])\n",
    "    std = np.array([0.229, 0.224, 0.225])\n",
    "    inp = std * inp + mean\n",
    "    inp = np.clip(inp, 0, 1)\n",
    "    plt.imshow(inp)\n",
    "    if title is not None:\n",
    "        plt.title(title)\n",
    "    plt.pause(0.001)  # pause a bit so that plots are updated\n",
    "    \n",
    "    \n",
    "train_features, train_labels = next(iter(train_dl))\n",
    "out = torchvision.utils.make_grid(train_features)\n",
    "imshow(out, title = [i.item() for i in train_labels])"
   ]
  },
  {
   "cell_type": "code",
   "execution_count": null,
   "id": "32b14d7b",
   "metadata": {},
   "outputs": [],
   "source": [
    "# We'll use the to keep track of our training stastics (i.e. running training loss, running validation loss, etc...)\n",
    "class AverageMeter:\n",
    "    def __init__(self):\n",
    "        self.reset()\n",
    "\n",
    "    def reset(self):\n",
    "        self.val = 0\n",
    "        self.avg = 0\n",
    "        self.sum = 0\n",
    "        self.count = 0\n",
    "\n",
    "    def update(self, val, n = 1):\n",
    "        self.val = val\n",
    "        self.sum += val * n\n",
    "        self.count += n\n",
    "        self.avg = round(self.sum / self.count, 4)"
   ]
  },
  {
   "cell_type": "markdown",
   "id": "eaa08c32",
   "metadata": {},
   "source": [
    "We're going to use a basic off the shelf Resnet18 pretrained on ImageNet. ImageNet has 1000 classes, which means our last lauyer, the fully connected layer, has an output size of 1000 (each element in the output represents and ImageNet class). In our case, we want an output size of 1, and that number is our predicted test score. We make the change in the second line using ```model.fc = torch.nn.Linear(512, 1)```. After that, we send the model to a 'device'. If your enviroenmt has a GPU avail;abel to it, this will be \"cuda\" and if not it will be \"cpu\". We save this device as a variable, because later on we'll need to send our input images and target test_score tensors to the same device."
   ]
  },
  {
   "cell_type": "code",
   "execution_count": null,
   "id": "32523142",
   "metadata": {},
   "outputs": [],
   "source": [
    "# Set up a basic off the shelf \n",
    "model = models.resnet18(pretrained = True)\n",
    "model.fc = torch.nn.Linear(512, 1)\n",
    "device = torch.device(\"cuda:0\" if torch.cuda.is_available() else \"cpu\")\n",
    "model = model.to(device)\n",
    "\n",
    "\n",
    "criterion = torch.nn.L1Loss()\n",
    "optimizer = torch.optim.SGD(model.parameters(), lr = 0.001)\n",
    "epochs = 10\n",
    "dataloader = {'Training': train_dl, 'Validation': val_dl}"
   ]
  },
  {
   "cell_type": "markdown",
   "id": "1311cd62",
   "metadata": {},
   "source": [
    "#### Set up our hyperparameters\n",
    "- criterion: Thi sis our loss function. See more options here: https://pytorch.org/docs/stable/nn.html#loss-functions. L1 Loss is basically the same thing as Total Error which means our averaged loss is the smae thing as Mean Average Error (MAE) - note that if you change the type of loss function, the averageed loss will no longer be the MAE\n",
    "- optimizer: this is how we actually update the weights of our model. See more options here: https://pytorch.org/docs/stable/optim.html#algorithms. --lr is the Learning Rate.\n",
    "- epochs: The number of epochs to train\n",
    "- dataloader: Dictionary to help in the training function"
   ]
  },
  {
   "cell_type": "code",
   "execution_count": 52,
   "id": "e275e617",
   "metadata": {},
   "outputs": [
    {
     "name": "stdout",
     "output_type": "stream",
     "text": [
      "Epoch 0/19\n",
      "  Training MAE: 25.2771\n",
      "  Validation MAE: 23.9134\n",
      "  * New best MAE\n",
      "\n",
      "Epoch 1/19\n",
      "  Training MAE: 23.8295\n",
      "  Validation MAE: 23.9597\n",
      "\n",
      "\n",
      "Epoch 2/19\n",
      "  Training MAE: 23.3177\n",
      "  Validation MAE: 24.3300\n",
      "\n",
      "\n",
      "Epoch 3/19\n",
      "  Training MAE: 23.2393\n",
      "  Validation MAE: 23.5402\n",
      "  * New best MAE\n",
      "\n",
      "Epoch 4/19\n",
      "  Training MAE: 22.6096\n",
      "  Validation MAE: 23.6411\n",
      "\n",
      "\n",
      "Epoch 5/19\n",
      "  Training MAE: 22.3600\n",
      "  Validation MAE: 23.4203\n",
      "  * New best MAE\n",
      "\n",
      "Epoch 6/19\n",
      "  Training MAE: 21.7675\n",
      "  Validation MAE: 23.6581\n",
      "\n",
      "\n",
      "Epoch 7/19\n",
      "  Training MAE: 21.3207\n",
      "  Validation MAE: 23.7833\n",
      "\n",
      "\n",
      "Epoch 8/19\n",
      "  Training MAE: 20.5456\n",
      "  Validation MAE: 24.4398\n",
      "\n",
      "\n",
      "Epoch 9/19\n",
      "  Training MAE: 20.1867\n",
      "  Validation MAE: 24.2137\n",
      "\n",
      "\n",
      "Epoch 10/19\n",
      "  Training MAE: 19.4418\n",
      "  Validation MAE: 24.3741\n",
      "\n",
      "\n",
      "Epoch 11/19\n",
      "  Training MAE: 18.7767\n",
      "  Validation MAE: 23.4538\n",
      "\n",
      "\n",
      "Epoch 12/19\n",
      "  Training MAE: 17.9867\n",
      "  Validation MAE: 24.2664\n",
      "\n",
      "\n",
      "Epoch 13/19\n",
      "  Training MAE: 17.8194\n",
      "  Validation MAE: 24.3920\n",
      "\n",
      "\n",
      "Epoch 14/19\n",
      "  Training MAE: 16.7529\n",
      "  Validation MAE: 23.6015\n",
      "\n",
      "\n",
      "Epoch 15/19\n",
      "  Training MAE: 16.2171\n",
      "  Validation MAE: 24.7780\n",
      "\n",
      "\n",
      "Epoch 16/19\n",
      "  Training MAE: 15.7241\n",
      "  Validation MAE: 24.4123\n",
      "\n",
      "\n",
      "Epoch 17/19\n",
      "  Training MAE: 15.0484\n",
      "  Validation MAE: 24.6464\n",
      "\n",
      "\n",
      "Epoch 18/19\n",
      "  Training MAE: 14.4503\n",
      "  Validation MAE: 23.7737\n",
      "\n",
      "\n",
      "Epoch 19/19\n",
      "  Training MAE: 13.9019\n",
      "  Validation MAE: 24.3963\n",
      "\n",
      "\n"
     ]
    }
   ],
   "source": [
    "def train(dataloader, model, epochs, optimizer, criterion, batch_size, device):\n",
    "    \n",
    "    train_tracker, val_tracker = AverageMeter(), AverageMeter()\n",
    "    trackers = {'Training': train_tracker, \"Validation\": val_tracker}\n",
    "    best_mae, best_model_wts = 90000000, model.state_dict()\n",
    "    \n",
    "    for epoch in range(epochs):\n",
    "        \n",
    "        print('Epoch {}/{}'.format(epoch, epochs - 1))\n",
    "        \n",
    "        for phase in [\"Training\", \"Validation\"]:\n",
    "            \n",
    "            for (inputs, targets) in dataloader[phase]:\n",
    "                                \n",
    "                inputs, targets = inputs.to(device), targets.view(-1, 1).to(device)\n",
    "                outputs = model(inputs)\n",
    "                loss = criterion(outputs, targets)\n",
    "                trackers[phase].update(loss.item(), batch_size)\n",
    "            \n",
    "                if phase == \"Training\":\n",
    "                    \n",
    "                    optimizer.zero_grad()\n",
    "                    loss.backward()\n",
    "                    optimizer.step()\n",
    "\n",
    "            print('  {} MAE: {:.4f}'.format(\n",
    "                phase, trackers[phase].avg))\n",
    "        \n",
    "        \n",
    "        if trackers[\"Validation\"].avg < best_mae:\n",
    "            best_mae = trackers[\"Validation\"].avg\n",
    "            best_model_wts = deepcopy(model.state_dict())\n",
    "            print(\"  * New best MAE\\n\")\n",
    "        else:\n",
    "            print(\"\\n\")\n",
    "        \n",
    "        trackers[\"Training\"].reset()\n",
    "        trackers[\"Validation\"].reset()\n",
    "        \n",
    "    model.load_state_dict(best_model_wts)\n",
    "        \n",
    "    return model\n",
    "            \n",
    "model = train(dataloader, model, epochs, optimizer, criterion, 4, device)"
   ]
  },
  {
   "cell_type": "code",
   "execution_count": 53,
   "id": "a2f2d576",
   "metadata": {},
   "outputs": [
    {
     "data": {
      "image/png": "[encoded data removed]",
      "text/plain": [
       "<Figure size 432x288 with 1 Axes>"
      ]
     },
     "metadata": {
      "needs_background": "light"
     },
     "output_type": "display_data"
    },
    {
     "data": {
      "image/png": "[encoded data removed]",
      "text/plain": [
       "<Figure size 432x288 with 1 Axes>"
      ]
     },
     "metadata": {
      "needs_background": "light"
     },
     "output_type": "display_data"
    },
    {
     "data": {
      "image/png": "[encoded data removed]",
      "text/plain": [
       "<Figure size 432x288 with 1 Axes>"
      ]
     },
     "metadata": {
      "needs_background": "light"
     },
     "output_type": "display_data"
    },
    {
     "data": {
      "image/png": "[encoded data removed]",
      "text/plain": [
       "<Figure size 432x288 with 1 Axes>"
      ]
     },
     "metadata": {
      "needs_background": "light"
     },
     "output_type": "display_data"
    },
    {
     "data": {
      "image/png": "[encoded data removed]",
      "text/plain": [
       "<Figure size 432x288 with 1 Axes>"
      ]
     },
     "metadata": {
      "needs_background": "light"
     },
     "output_type": "display_data"
    },
    {
     "data": {
      "image/png": "[encoded data removed]",
      "text/plain": [
       "<Figure size 432x288 with 1 Axes>"
      ]
     },
     "metadata": {
      "needs_background": "light"
     },
     "output_type": "display_data"
    }
   ],
   "source": [
    "def visualize_model(model, num_images=6):\n",
    "    was_training = model.training\n",
    "    model.eval()\n",
    "    images_so_far = 0\n",
    "    fig = plt.figure()\n",
    "\n",
    "    with torch.no_grad():\n",
    "        for i, (inputs, labels) in enumerate(dataloader['Validation']):\n",
    "            inputs = inputs.to(device)\n",
    "            labels = labels.to(device)\n",
    "\n",
    "            outputs = model(inputs)\n",
    "\n",
    "            for j in range(inputs.size()[0]):\n",
    "                images_so_far += 1\n",
    "                ax = plt.subplot(num_images//2, 2, images_so_far)\n",
    "                ax.axis('off')\n",
    "                ax.set_title('predicted: {}'.format(round(outputs[j].item(), 2)))\n",
    "                imshow(inputs.cpu().data[j])\n",
    "\n",
    "                if images_so_far == num_images:\n",
    "                    model.train(mode=was_training)\n",
    "                    return\n",
    "        model.train(mode = was_training)\n",
    "        \n",
    "visualize_model(model)"
   ]
  },
  {
   "cell_type": "code",
   "execution_count": 54,
   "id": "627b5361",
   "metadata": {},
   "outputs": [
    {
     "data": {
      "image/png": "[encoded data removed]",
      "text/plain": [
       "<Figure size 432x288 with 1 Axes>"
      ]
     },
     "metadata": {
      "needs_background": "light"
     },
     "output_type": "display_data"
    }
   ],
   "source": [
    "def evaluate_accuracy(model):\n",
    "    true_scores, predicted_scores = [], []\n",
    "    model.eval()\n",
    "    for (inputs, targets) in dataloader['Validation']:\n",
    "        [true_scores.append(i.item()) for i in targets]\n",
    "        outputs = model(inputs.to(device))\n",
    "        [predicted_scores.append(i.item()) for i in outputs]\n",
    "        \n",
    "    r2 = round(metrics.r2_score(true_scores, predicted_scores), 2)\n",
    "\n",
    "    plt.scatter(true_scores, predicted_scores)\n",
    "    plt.xlabel(\"True Score\")\n",
    "    plt.ylabel(\"Predicted Score\")\n",
    "    plt.title(f\"True versus predicted test scores \\n r2: {r2}\")\n",
    "    plt.show()\n",
    "\n",
    "evaluate_accuracy(model)"
   ]
  },
  {
   "cell_type": "code",
   "execution_count": 12,
   "id": "f204f470",
   "metadata": {},
   "outputs": [],
   "source": [
    "torch.save({\n",
    "            'epoch': epochs,\n",
    "            'model_state_dict': model.state_dict(),\n",
    "            'optimizer_state_dict': optimizer.state_dict(),\n",
    "            'loss': criterion,\n",
    "        }, f\"./trained_{COUNTRY}_model.torch\")"
   ]
  },
  {
   "cell_type": "code",
   "execution_count": null,
   "id": "a2f0d420",
   "metadata": {},
   "outputs": [],
   "source": []
  }
 ],
 "metadata": {
  "kernelspec": {
   "display_name": "Python 3",
   "language": "python",
   "name": "python3"
  },
  "language_info": {
   "codemirror_mode": {
    "name": "ipython",
    "version": 3
   },
   "file_extension": ".py",
   "mimetype": "text/x-python",
   "name": "python",
   "nbconvert_exporter": "python",
   "pygments_lexer": "ipython3",
   "version": "3.7.10"
  }
 },
 "nbformat": 4,
 "nbformat_minor": 5
}
