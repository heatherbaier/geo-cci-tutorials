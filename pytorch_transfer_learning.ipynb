{
 "cells": [
  {
   "cell_type": "code",
   "execution_count": 1,
   "id": "ee28f16c",
   "metadata": {},
   "outputs": [],
   "source": [
    "from torchvision import transforms, models\n",
    "import matplotlib.pyplot as plt\n",
    "from sklearn import metrics\n",
    "from copy import deepcopy\n",
    "from PIL import Image\n",
    "import pandas as pd\n",
    "import numpy as np\n",
    "import torchvision\n",
    "import random\n",
    "import torch"
   ]
  },
  {
   "cell_type": "code",
   "execution_count": 2,
   "id": "4e296d1e",
   "metadata": {},
   "outputs": [],
   "source": [
    "import os\n",
    "os.environ[\"CUDA_DEVICE_ORDER\"] = \"PCI_BUS_ID\" \n",
    "os.environ[\"CUDA_VISIBLE_DEVICES\"] = \"4\""
   ]
  },
  {
   "cell_type": "code",
   "execution_count": 3,
   "id": "f85b4e3b",
   "metadata": {},
   "outputs": [],
   "source": [
    "tfs = transforms.Compose([\n",
    "        transforms.ToTensor(),\n",
    "        transforms.CenterCrop(256),\n",
    "        transforms.RandomHorizontalFlip(),\n",
    "        transforms.Normalize([0.485, 0.456, 0.406], [0.229, 0.224, 0.225])\n",
    "    ])"
   ]
  },
  {
   "cell_type": "code",
   "execution_count": 4,
   "id": "2c859553",
   "metadata": {},
   "outputs": [],
   "source": [
    "class Dataloader():\n",
    "    \n",
    "    def __init__(self, country, imagery_direc, scores_df, split, batch_size, tfs = None):\n",
    "        \"\"\"\n",
    "        Arguments:\n",
    "            country: one of ['mex', 'slv', 'peru', 'phl']\n",
    "            imagery_direc: path to folder containing school imagery\n",
    "            scores_df: path to CSV file with school IDs and test scroes\n",
    "            split: train/test split, should be between .01 and 1, recommended is between .65 and .8\n",
    "            batch_size: number of images in a batch\n",
    "        \"\"\"\n",
    "        self.country = country\n",
    "        self.imagery_direc = imagery_direc\n",
    "        self.imagery = os.listdir(self.imagery_direc)\n",
    "        self.imagery = [i for i in self.imagery if self.country in i]\n",
    "        self.scores_df = pd.read_csv(scores_df)\n",
    "        self.scores_df = self.scores_df[self.scores_df['country'] == self.country]\n",
    "        self.split = split\n",
    "        self.batch_size = batch_size\n",
    "        \n",
    "        if tfs is None:\n",
    "            self.tfs = transforms.ToTensor()\n",
    "        else:\n",
    "            self.tfs = tfs\n",
    "        \n",
    "        # Load the data into a list with the format [(school_image, school_test_score), ...]\n",
    "        self.data = self.load_data()\n",
    "        \n",
    "        # Split the data into training and validation sets\n",
    "        self.train, self.val = self.test_train_split()\n",
    "        \n",
    "        \n",
    "    def load_data(self):\n",
    "        \"\"\"\n",
    "        Load the imagery into a list in the format: [(imager_tensor, test_score), ...]\n",
    "        \"\"\"\n",
    "        data = []\n",
    "        for col, row in self.scores_df.iterrows():\n",
    "            school_id = str(row.school_id)\n",
    "            test_score = row.scaled_score\n",
    "            impath = [i for i in self.imagery if school_id in i]\n",
    "            if len(impath) > 0:\n",
    "                image = np.array(Image.open(self.imagery_direc + impath[0]))\n",
    "                image = self.tfs(image)\n",
    "                data.append((image, test_score))\n",
    "        return data\n",
    "                \n",
    "        \n",
    "    def test_train_split(self):\n",
    "        \"\"\"\n",
    "        Split the data into 4 parts:\n",
    "            x_train: imagery we use to train the model\n",
    "            y_train: test_scores matched to the iamgery in x_train\n",
    "            x_val: imagery used to test the model\n",
    "            y_val: test_scores matched to the iamgery in x_val\n",
    "        \"\"\"\n",
    "        train_num = int(len(self.data) * self.split)\n",
    "        val_num = int(len(self.data) - train_num)\n",
    "\n",
    "        all_indices = list(range(0, len(self.data)))\n",
    "        train_indices = random.sample(range(len(self.data)), train_num)\n",
    "        val_indices = list(np.setdiff1d(all_indices, train_indices))\n",
    "\n",
    "        x_train, x_val = [self.data[i][0] for i in train_indices], [self.data[i][0] for i in val_indices]\n",
    "        y_train, y_val = [self.data[i][1] for i in train_indices], [self.data[i][1] for i in val_indices]\n",
    "        \n",
    "        train = [(k,v) for k,v in zip(x_train, y_train)]\n",
    "        val = [(k,v) for k,v in zip(x_val, y_val)]\n",
    "\n",
    "        # Load the data into pytorch's Dataloader format\n",
    "        train = torch.utils.data.DataLoader(train, batch_size = self.batch_size, shuffle = True, drop_last = True)\n",
    "        val = torch.utils.data.DataLoader(val, batch_size = self.batch_size, shuffle = True, drop_last = True)\n",
    "\n",
    "        return train, val"
   ]
  },
  {
   "cell_type": "code",
   "execution_count": 5,
   "id": "4d730d37",
   "metadata": {},
   "outputs": [],
   "source": [
    "COUNTRY = \"phl\"\n",
    "BATCH_SIZE = 4\n",
    "SPLIT = .75\n",
    "IMAGERY_DIREC = \"../../CCI/hmbaier/\"\n",
    "SCORES_DF = \"../../CCI/hmbaier/cci_example.csv\""
   ]
  },
  {
   "cell_type": "code",
   "execution_count": 6,
   "id": "a52ce39d",
   "metadata": {},
   "outputs": [],
   "source": [
    "data = Dataloader(country = COUNTRY, \n",
    "                  imagery_direc = IMAGERY_DIREC, \n",
    "                  scores_df = SCORES_DF,\n",
    "                  split = SPLIT,\n",
    "                  batch_size = BATCH_SIZE,\n",
    "                  tfs = tfs)\n",
    "train_dl, val_dl = data.train, data.val"
   ]
  },
  {
   "cell_type": "code",
   "execution_count": 7,
   "id": "f5140f38",
   "metadata": {},
   "outputs": [
    {
     "data": {
      "image/png": "[encoded data removed]",
      "text/plain": [
       "<Figure size 432x288 with 1 Axes>"
      ]
     },
     "metadata": {
      "needs_background": "light"
     },
     "output_type": "display_data"
    }
   ],
   "source": [
    "def imshow(inp, title=None):\n",
    "    \"\"\"Imshow for Tensor.\"\"\"\n",
    "    inp = inp.numpy().transpose((1, 2, 0))\n",
    "    mean = np.array([0.485, 0.456, 0.406])\n",
    "    std = np.array([0.229, 0.224, 0.225])\n",
    "    inp = std * inp + mean\n",
    "    inp = np.clip(inp, 0, 1)\n",
    "    plt.imshow(inp)\n",
    "    if title is not None:\n",
    "        plt.title(title)\n",
    "    plt.pause(0.001)  # pause a bit so that plots are updated\n",
    "    \n",
    "    \n",
    "train_features, train_labels = next(iter(train_dl))\n",
    "out = torchvision.utils.make_grid(train_features)\n",
    "imshow(out, title = [i.item() for i in train_labels])"
   ]
  },
  {
   "cell_type": "code",
   "execution_count": 8,
   "id": "9e1800f3",
   "metadata": {},
   "outputs": [],
   "source": [
    "# We'll use the to keep track of our training stastics (i.e. running training loss, running validation loss, etc...)\n",
    "class AverageMeter:\n",
    "    def __init__(self):\n",
    "        self.reset()\n",
    "\n",
    "    def reset(self):\n",
    "        self.val = 0\n",
    "        self.avg = 0\n",
    "        self.sum = 0\n",
    "        self.count = 0\n",
    "\n",
    "    def update(self, val, n = 1):\n",
    "        self.val = val\n",
    "        self.sum += val * n\n",
    "        self.count += n\n",
    "        self.avg = round(self.sum / self.count, 4)"
   ]
  },
  {
   "cell_type": "code",
   "execution_count": 9,
   "id": "b1cd506e",
   "metadata": {},
   "outputs": [],
   "source": [
    "# Set up a basic off the shelf \n",
    "model = models.resnet18(pretrained = True)\n",
    "model.fc = torch.nn.Linear(512, 1)\n",
    "device = torch.device(\"cuda:0\" if torch.cuda.is_available() else \"cpu\")\n",
    "\n",
    "\n",
    "checkpoint = torch.load(\"./trained_model.torch\")[\"model_state_dict\"]\n",
    "\n",
    "model.load_state_dict(checkpoint)\n",
    "model = model.to(device)"
   ]
  },
  {
   "cell_type": "code",
   "execution_count": 10,
   "id": "3b1bc98e",
   "metadata": {},
   "outputs": [],
   "source": [
    "criterion = torch.nn.L1Loss()\n",
    "optimizer = torch.optim.SGD(model.parameters(), lr = 0.001)\n",
    "epochs = 20\n",
    "dataloader = {'Training': train_dl, 'Validation': val_dl}"
   ]
  },
  {
   "cell_type": "code",
   "execution_count": null,
   "id": "c770f4fc",
   "metadata": {},
   "outputs": [
    {
     "name": "stdout",
     "output_type": "stream",
     "text": [
      "Epoch 0/19\n",
      "  Training MAE: 17.9922\n",
      "  Validation MAE: 16.5408\n",
      "  * New best MAE\n",
      "\n",
      "Epoch 1/19\n",
      "  Training MAE: 16.4810\n",
      "  Validation MAE: 17.9898\n",
      "\n",
      "\n",
      "Epoch 2/19\n",
      "  Training MAE: 16.0410\n",
      "  Validation MAE: 16.5011\n",
      "  * New best MAE\n",
      "\n",
      "Epoch 3/19\n",
      "  Training MAE: 15.9563\n",
      "  Validation MAE: 16.3617\n",
      "  * New best MAE\n",
      "\n",
      "Epoch 4/19\n",
      "  Training MAE: 15.7154\n",
      "  Validation MAE: 15.5716\n",
      "  * New best MAE\n",
      "\n",
      "Epoch 5/19\n"
     ]
    }
   ],
   "source": [
    "def train(dataloader, model, epochs, optimizer, criterion, batch_size, device):\n",
    "    \n",
    "    train_tracker, val_tracker = AverageMeter(), AverageMeter()\n",
    "    trackers = {'Training': train_tracker, \"Validation\": val_tracker}\n",
    "    best_mae, best_model_wts = 90000000, model.state_dict()\n",
    "    \n",
    "    for epoch in range(epochs):\n",
    "        \n",
    "        print('Epoch {}/{}'.format(epoch, epochs - 1))\n",
    "        \n",
    "        for phase in [\"Training\", \"Validation\"]:\n",
    "            \n",
    "            for (inputs, targets) in dataloader[phase]:\n",
    "                                \n",
    "                inputs, targets = inputs.to(device), targets.view(-1, 1).to(device)\n",
    "                outputs = model(inputs)\n",
    "                loss = criterion(outputs, targets)\n",
    "                trackers[phase].update(loss.item(), batch_size)\n",
    "            \n",
    "                if phase == \"Training\":\n",
    "                    \n",
    "                    optimizer.zero_grad()\n",
    "                    loss.backward()\n",
    "                    optimizer.step()\n",
    "\n",
    "            print('  {} MAE: {:.4f}'.format(\n",
    "                phase, trackers[phase].avg))\n",
    "        \n",
    "        \n",
    "        if trackers[\"Validation\"].avg < best_mae:\n",
    "            best_mae = trackers[\"Validation\"].avg\n",
    "            best_model_wts = deepcopy(model.state_dict())\n",
    "            print(\"  * New best MAE\\n\")\n",
    "        else:\n",
    "            print(\"\\n\")\n",
    "        \n",
    "        trackers[\"Training\"].reset()\n",
    "        trackers[\"Validation\"].reset()\n",
    "        \n",
    "    model.load_state_dict(best_model_wts)\n",
    "        \n",
    "    return model\n",
    "            \n",
    "model = train(dataloader, model, epochs, optimizer, criterion, 4, device)"
   ]
  },
  {
   "cell_type": "code",
   "execution_count": null,
   "id": "1ebaf6e6",
   "metadata": {},
   "outputs": [],
   "source": []
  }
 ],
 "metadata": {
  "kernelspec": {
   "display_name": "Python 3",
   "language": "python",
   "name": "python3"
  },
  "language_info": {
   "codemirror_mode": {
    "name": "ipython",
    "version": 3
   },
   "file_extension": ".py",
   "mimetype": "text/x-python",
   "name": "python",
   "nbconvert_exporter": "python",
   "pygments_lexer": "ipython3",
   "version": "3.7.10"
  }
 },
 "nbformat": 4,
 "nbformat_minor": 5
}
