{
 "cells": [
  {
   "cell_type": "code",
   "execution_count": 1,
   "id": "04c82106",
   "metadata": {},
   "outputs": [],
   "source": [
    "from torchvision import transforms, models\n",
    "import matplotlib.pyplot as plt\n",
    "from sklearn import metrics\n",
    "from copy import deepcopy\n",
    "from PIL import Image\n",
    "import pandas as pd\n",
    "import numpy as np\n",
    "import torchvision\n",
    "import random\n",
    "import torch"
   ]
  },
  {
   "cell_type": "code",
   "execution_count": 2,
   "id": "ffa68e14",
   "metadata": {},
   "outputs": [],
   "source": [
    "import os\n",
    "os.environ[\"CUDA_DEVICE_ORDER\"] = \"PCI_BUS_ID\" \n",
    "os.environ[\"CUDA_VISIBLE_DEVICES\"] = \"6\""
   ]
  },
  {
   "cell_type": "code",
   "execution_count": 3,
   "id": "dcd54c1f",
   "metadata": {},
   "outputs": [],
   "source": [
    "tfs = transforms.Compose([\n",
    "        transforms.ToTensor(),\n",
    "        transforms.CenterCrop(256),\n",
    "        transforms.RandomHorizontalFlip(),\n",
    "        transforms.Normalize([0.485, 0.456, 0.406], [0.229, 0.224, 0.225])\n",
    "    ])"
   ]
  },
  {
   "cell_type": "code",
   "execution_count": 4,
   "id": "849f5b24",
   "metadata": {},
   "outputs": [],
   "source": [
    "class Dataloader():\n",
    "    \n",
    "    def __init__(self, country, imagery_direc, scores_df, split, batch_size, tfs = None):\n",
    "        \"\"\"\n",
    "        Arguments:\n",
    "            country: one of ['mex', 'slv', 'peru', 'phl']\n",
    "            imagery_direc: path to folder containing school imagery\n",
    "            scores_df: path to CSV file with school IDs and test scroes\n",
    "            split: train/test split, should be between .01 and 1, recommended is between .65 and .8\n",
    "            batch_size: number of images in a batch\n",
    "        \"\"\"\n",
    "        self.country = country\n",
    "        self.imagery_direc = imagery_direc\n",
    "        self.imagery = os.listdir(self.imagery_direc)\n",
    "        self.imagery = [i for i in self.imagery if self.country in i]\n",
    "        self.scores_df = pd.read_csv(scores_df)\n",
    "        self.scores_df = self.scores_df[self.scores_df['country'] == self.country]\n",
    "        self.split = split\n",
    "        self.batch_size = batch_size\n",
    "        \n",
    "        if tfs is None:\n",
    "            self.tfs = transforms.ToTensor()\n",
    "        else:\n",
    "            self.tfs = tfs\n",
    "        \n",
    "        # Load the data into a list with the format [(school_image, school_test_score), ...]\n",
    "        self.data = self.load_data()\n",
    "        \n",
    "        \n",
    "    def load_data(self):\n",
    "        \"\"\"\n",
    "        Load the imagery into a list in the format: [(imager_tensor, test_score), ...]\n",
    "        \"\"\"\n",
    "        data = []\n",
    "        for col, row in self.scores_df.iterrows():\n",
    "            school_id = str(row.school_id)\n",
    "            test_score = row.y\n",
    "            impath = [i for i in self.imagery if school_id in i]\n",
    "            if len(impath) > 0:\n",
    "                image = np.array(Image.open(self.imagery_direc + impath[0]))\n",
    "                image = self.tfs(image)\n",
    "                data.append((image, test_score, school_id))\n",
    "        return data"
   ]
  },
  {
   "cell_type": "code",
   "execution_count": 5,
   "id": "4b73fe20",
   "metadata": {},
   "outputs": [],
   "source": [
    "COUNTRY = \"bra\"\n",
    "BATCH_SIZE = 4\n",
    "SPLIT = .75\n",
    "IMAGERY_DIREC = \"../../CCI/hmbaier/\"\n",
    "SCORES_DF = \"./cci_final.csv\""
   ]
  },
  {
   "cell_type": "code",
   "execution_count": 6,
   "id": "56e6b707",
   "metadata": {},
   "outputs": [],
   "source": [
    "data = Dataloader(country = COUNTRY, \n",
    "                  imagery_direc = IMAGERY_DIREC, \n",
    "                  scores_df = SCORES_DF,\n",
    "                  split = SPLIT,\n",
    "                  batch_size = BATCH_SIZE,\n",
    "                  tfs = tfs)\n",
    "all_data = data.data"
   ]
  },
  {
   "cell_type": "code",
   "execution_count": 7,
   "id": "bd67af53",
   "metadata": {},
   "outputs": [],
   "source": [
    "# We'll use the to keep track of our training stastics (i.e. running training loss, running validation loss, etc...)\n",
    "class AverageMeter:\n",
    "    def __init__(self):\n",
    "        self.reset()\n",
    "\n",
    "    def reset(self):\n",
    "        self.val = 0\n",
    "        self.avg = 0\n",
    "        self.sum = 0\n",
    "        self.count = 0\n",
    "\n",
    "    def update(self, val, n = 1):\n",
    "        self.val = val\n",
    "        self.sum += val * n\n",
    "        self.count += n\n",
    "        self.avg = round(self.sum / self.count, 4)"
   ]
  },
  {
   "cell_type": "code",
   "execution_count": 8,
   "id": "e64f99e4",
   "metadata": {},
   "outputs": [],
   "source": [
    "# Set up a basic off the shelf \n",
    "model = models.resnet18(pretrained = True)\n",
    "model.fc = torch.nn.Linear(512, 2)\n",
    "device = torch.device(\"cuda:0\" if torch.cuda.is_available() else \"cpu\")\n",
    "\n",
    "checkpoint = torch.load(\"./trained_phl_model.torch\")[\"model_state_dict\"]\n",
    "\n",
    "model.load_state_dict(checkpoint)\n",
    "model = model.to(device)"
   ]
  },
  {
   "cell_type": "code",
   "execution_count": 9,
   "id": "e3dee73e",
   "metadata": {},
   "outputs": [
    {
     "name": "stderr",
     "output_type": "stream",
     "text": [
      "/opt/conda/envs/rapids/lib/python3.7/site-packages/ipykernel_launcher.py:9: UserWarning: Implicit dimension choice for softmax has been deprecated. Change the call to include dim=X as an argument.\n",
      "  if __name__ == '__main__':\n"
     ]
    }
   ],
   "source": [
    "sm = torch.nn.Softmax()\n",
    "trues, preds, ids = [], [], []\n",
    "\n",
    "for (inputs, targets, school_id) in all_data:\n",
    "        \n",
    "    inputs, targets = inputs.unsqueeze(0).to(device), torch.tensor(targets)\n",
    "    outputs = model(inputs)\n",
    "    \n",
    "    _, pred = torch.max(sm(outputs), 1)\n",
    "        \n",
    "    trues.append(targets.item())\n",
    "    preds.append(pred.item())\n",
    "    ids.append(school_id)"
   ]
  },
  {
   "cell_type": "code",
   "execution_count": 10,
   "id": "19aa3ccb",
   "metadata": {},
   "outputs": [
    {
     "ename": "NameError",
     "evalue": "name 'preds_df' is not defined",
     "output_type": "error",
     "traceback": [
      "\u001b[0;31m---------------------------------------------------------------------------\u001b[0m",
      "\u001b[0;31mNameError\u001b[0m                                 Traceback (most recent call last)",
      "\u001b[0;32m<ipython-input-10-b78993187719>\u001b[0m in \u001b[0;36m<module>\u001b[0;34m\u001b[0m\n\u001b[0;32m----> 1\u001b[0;31m \u001b[0mpreds_df\u001b[0m\u001b[0;34m.\u001b[0m\u001b[0mto_csv\u001b[0m\u001b[0;34m(\u001b[0m\u001b[0;34m\"./predicted_brazil_pytorch.csv\"\u001b[0m\u001b[0;34m)\u001b[0m\u001b[0;34m\u001b[0m\u001b[0;34m\u001b[0m\u001b[0m\n\u001b[0m",
      "\u001b[0;31mNameError\u001b[0m: name 'preds_df' is not defined"
     ]
    }
   ],
   "source": [
    "preds_df.to_csv(\"./predicted_brazil_pytorch.csv\")"
   ]
  },
  {
   "cell_type": "code",
   "execution_count": null,
   "id": "144a3bb2",
   "metadata": {},
   "outputs": [],
   "source": [
    "from sklearn.metrics import confusion_matrix, accuracy_score\n",
    "\n",
    "\n",
    "cm = confusion_matrix(trues, preds)\n",
    "cm"
   ]
  },
  {
   "cell_type": "code",
   "execution_count": null,
   "id": "cae049c4",
   "metadata": {},
   "outputs": [],
   "source": [
    "accuracy_score(trues, preds)"
   ]
  }
 ],
 "metadata": {
  "kernelspec": {
   "display_name": "Python 3",
   "language": "python",
   "name": "python3"
  },
  "language_info": {
   "codemirror_mode": {
    "name": "ipython",
    "version": 3
   },
   "file_extension": ".py",
   "mimetype": "text/x-python",
   "name": "python",
   "nbconvert_exporter": "python",
   "pygments_lexer": "ipython3",
   "version": "3.7.10"
  }
 },
 "nbformat": 4,
 "nbformat_minor": 5
}
