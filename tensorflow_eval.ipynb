{
 "cells": [
  {
   "cell_type": "code",
   "execution_count": 1,
   "id": "b03a22f6",
   "metadata": {},
   "outputs": [],
   "source": [
    "import tensorflow as tf\n",
    "from PIL import Image\n",
    "import pandas as pd\n",
    "import numpy as np\n",
    "import random\n",
    "import cv2\n",
    "import os\n",
    "\n",
    "import resnet"
   ]
  },
  {
   "cell_type": "code",
   "execution_count": 2,
   "id": "8c07e12a",
   "metadata": {},
   "outputs": [],
   "source": [
    "import os\n",
    "os.environ[\"CUDA_DEVICE_ORDER\"] = \"PCI_BUS_ID\" \n",
    "os.environ[\"CUDA_VISIBLE_DEVICES\"] = \"4\""
   ]
  },
  {
   "cell_type": "code",
   "execution_count": 12,
   "id": "40c52628",
   "metadata": {},
   "outputs": [],
   "source": [
    "COUNTRY = \"bra\"\n",
    "CSV_PATH = \"./cci_final.csv\"\n",
    "IMAGERY_DIR = \"../../CCI/hmbaier/\"\n",
    "BATCH_SIZE = 64"
   ]
  },
  {
   "cell_type": "code",
   "execution_count": 4,
   "id": "68e8b35c",
   "metadata": {},
   "outputs": [
    {
     "data": {
      "text/plain": [
       "['../../CCI/hmbaier/43135129_bra_2015-01-01_2015-03-30.png',\n",
       " '../../CCI/hmbaier/43157114_bra_2015-01-01_2015-03-30.png',\n",
       " '../../CCI/hmbaier/32003005_bra_2015-01-01_2015-03-30.png',\n",
       " '../../CCI/hmbaier/52026663_bra_2015-01-01_2015-03-30.png',\n",
       " '../../CCI/hmbaier/33066523_bra_2015-01-01_2015-03-30.png']"
      ]
     },
     "execution_count": 4,
     "metadata": {},
     "output_type": "execute_result"
    }
   ],
   "source": [
    "files = os.listdir(IMAGERY_DIR)\n",
    "files = [IMAGERY_DIR + i for i in files if COUNTRY in i]\n",
    "\n",
    "files[0:5]"
   ]
  },
  {
   "cell_type": "code",
   "execution_count": 5,
   "id": "b49ca4bf",
   "metadata": {},
   "outputs": [],
   "source": [
    "class Dataloader():\n",
    "    \n",
    "    def __init__(self, country, imagery_direc, scores_df, batch_size):\n",
    "        \"\"\"\n",
    "        Arguments:\n",
    "            country: one of ['mex', 'slv', 'peru', 'phl']\n",
    "            imagery_direc: path to folder containing school imagery\n",
    "            scores_df: path to CSV file with school IDs and test scroes\n",
    "            split: train/test split, should be between .01 and 1, recommended is between .65 and .8\n",
    "            batch_size: number of images in a batch\n",
    "        \"\"\"\n",
    "        self.country = country\n",
    "        self.imagery_direc = imagery_direc\n",
    "        self.imagery = os.listdir(self.imagery_direc)\n",
    "        self.imagery = [i for i in self.imagery if self.country in i]\n",
    "        self.scores_df = pd.read_csv(scores_df)\n",
    "        self.scores_df = self.scores_df[self.scores_df['country'] == self.country]\n",
    "        self.batch_size = batch_size\n",
    "\n",
    "        # Load the data into a list with the format [(school_image, school_test_score), ...]\n",
    "        self.data = self.load_data()\n",
    "        \n",
    "        \n",
    "    def load_data(self):\n",
    "        \"\"\"\n",
    "        Load the imagery into a list in the format: [(imagery_tensor, test_score), ...]\n",
    "        \"\"\"\n",
    "        data = []\n",
    "        for col, row in self.scores_df.iterrows():\n",
    "            school_id = str(row.school_id)\n",
    "            test_score = row.y\n",
    "            impath = [i for i in self.imagery if school_id in i]\n",
    "            if len(impath) > 0:\n",
    "                image = np.array(Image.open(self.imagery_direc + impath[0]))\n",
    "                data.append((image, test_score))\n",
    "        return data"
   ]
  },
  {
   "cell_type": "code",
   "execution_count": 6,
   "id": "bdcda4ab",
   "metadata": {},
   "outputs": [],
   "source": [
    "data = Dataloader(country = COUNTRY, \n",
    "                  imagery_direc = IMAGERY_DIR, \n",
    "                  scores_df = CSV_PATH,\n",
    "                  batch_size = BATCH_SIZE)"
   ]
  },
  {
   "cell_type": "code",
   "execution_count": 7,
   "id": "93185fbf",
   "metadata": {},
   "outputs": [],
   "source": [
    "all_data = data.data"
   ]
  },
  {
   "cell_type": "code",
   "execution_count": 8,
   "id": "29dd1b70",
   "metadata": {},
   "outputs": [],
   "source": [
    "model = tf.keras.models.load_model('phl_model/my_model')\n",
    "\n",
    "model.compile(\n",
    "    optimizer = tf.keras.optimizers.Adam(learning_rate = 0.0001),\n",
    "    loss = tf.keras.losses.BinaryCrossentropy()\n",
    ")"
   ]
  },
  {
   "cell_type": "code",
   "execution_count": 9,
   "id": "51cea9cf",
   "metadata": {},
   "outputs": [],
   "source": [
    "preds, trues = [], []\n",
    "\n",
    "with tf.device('/device:GPU:0'):\n",
    "    \n",
    "    for i in range(0, len(all_data)):\n",
    "\n",
    "        preds.append(np.argmax(model.predict(np.expand_dims(all_data[i][0], 0))))\n",
    "        trues.append(all_data[i][1])"
   ]
  },
  {
   "cell_type": "code",
   "execution_count": 10,
   "id": "f100f57f",
   "metadata": {},
   "outputs": [
    {
     "data": {
      "text/plain": [
       "array([[  90, 2050],\n",
       "       [ 257, 4344]])"
      ]
     },
     "execution_count": 10,
     "metadata": {},
     "output_type": "execute_result"
    }
   ],
   "source": [
    "from sklearn.metrics import confusion_matrix, accuracy_score\n",
    "\n",
    "cm = confusion_matrix(trues, preds)\n",
    "cm"
   ]
  },
  {
   "cell_type": "code",
   "execution_count": 11,
   "id": "d52a191a",
   "metadata": {},
   "outputs": [
    {
     "data": {
      "text/plain": [
       "0.6577659101023587"
      ]
     },
     "execution_count": 11,
     "metadata": {},
     "output_type": "execute_result"
    }
   ],
   "source": [
    "accuracy_score(trues, preds)"
   ]
  }
 ],
 "metadata": {
  "kernelspec": {
   "display_name": "Python 3",
   "language": "python",
   "name": "python3"
  },
  "language_info": {
   "codemirror_mode": {
    "name": "ipython",
    "version": 3
   },
   "file_extension": ".py",
   "mimetype": "text/x-python",
   "name": "python",
   "nbconvert_exporter": "python",
   "pygments_lexer": "ipython3",
   "version": "3.7.10"
  }
 },
 "nbformat": 4,
 "nbformat_minor": 5
}
