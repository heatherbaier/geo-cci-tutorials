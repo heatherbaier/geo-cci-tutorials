{
 "cells": [
  {
   "cell_type": "code",
   "execution_count": 1,
   "id": "6d8a8a80",
   "metadata": {},
   "outputs": [],
   "source": [
    "import tensorflow as tf\n",
    "import pandas as pd\n",
    "import numpy as np\n",
    "import random\n",
    "import cv2\n",
    "import os\n",
    "\n",
    "import resnet"
   ]
  },
  {
   "cell_type": "code",
   "execution_count": 2,
   "id": "1c3904b7",
   "metadata": {},
   "outputs": [],
   "source": [
    "import os\n",
    "os.environ[\"CUDA_DEVICE_ORDER\"] = \"PCI_BUS_ID\" \n",
    "os.environ[\"CUDA_VISIBLE_DEVICES\"] = \"5\""
   ]
  },
  {
   "cell_type": "markdown",
   "id": "9eb32dc3",
   "metadata": {},
   "source": [
    "First we need to set up some basic variables such as our batch size, country and data directories/paths "
   ]
  },
  {
   "cell_type": "code",
   "execution_count": 3,
   "id": "8a18431e",
   "metadata": {},
   "outputs": [],
   "source": [
    "COUNTRY = \"mex\"\n",
    "CSV_PATH = \"../../CCI/hmbaier/cci_example.csv\"\n",
    "IMAGERY_DIR = \"../../CCI/hmbaier/\"\n",
    "BATCH_SIZE = 64\n",
    "checkpoint_path = \"training/cp-{epoch:04d}.ckpt\""
   ]
  },
  {
   "cell_type": "markdown",
   "id": "75956bd0",
   "metadata": {},
   "source": [
    "Next, we create a variables called files that contains the name of every image in our base folder, then we subset it to just the iamges for our selected country"
   ]
  },
  {
   "cell_type": "code",
   "execution_count": 4,
   "id": "5ecb905e",
   "metadata": {},
   "outputs": [
    {
     "data": {
      "text/plain": [
       "['../../CCI/hmbaier/01DTV0015X_mex_2016-08-18_2017-05-17.png',\n",
       " '../../CCI/hmbaier/01DTV0005Q_mex_2016-08-18_2017-05-17.png',\n",
       " '../../CCI/hmbaier/01DTV0010B_mex_2016-08-18_2017-05-17.png',\n",
       " '../../CCI/hmbaier/01DTV0013Z_mex_2016-08-18_2017-05-17.png',\n",
       " '../../CCI/hmbaier/01DTV0002T_mex_2016-08-18_2017-05-17.png']"
      ]
     },
     "execution_count": 4,
     "metadata": {},
     "output_type": "execute_result"
    }
   ],
   "source": [
    "files = os.listdir(IMAGERY_DIR)\n",
    "files = [IMAGERY_DIR + i for i in files if COUNTRY in i]\n",
    "\n",
    "files[0:5]"
   ]
  },
  {
   "cell_type": "markdown",
   "id": "30561b2f",
   "metadata": {},
   "source": [
    "We will use a type of Python object called a Generator for our datalaoder. You can read more about them here: https://realpython.com/introduction-to-python-generators/"
   ]
  },
  {
   "cell_type": "code",
   "execution_count": 6,
   "id": "a6f5a282",
   "metadata": {},
   "outputs": [],
   "source": [
    "def train_test_split(files, split):\n",
    "\n",
    "    \"\"\" Split data into training and validation sets \"\"\"\n",
    "\n",
    "    train_num = int(len(files) * split)\n",
    "\n",
    "    train = random.sample(files, train_num)\n",
    "    val = [i for i in files if i not in train]\n",
    "\n",
    "    return train, val\n",
    "\n",
    "\n",
    "def get_train():\n",
    "\n",
    "    \"\"\" Training data generator \"\"\"\n",
    "\n",
    "    for file in train_files:\n",
    "        \n",
    "        # Grab the school_id from the image name\n",
    "        school_id = file.split(\"/\")[4].split(\"_\")[0]\n",
    "        \n",
    "        # Grab the test score for the current school from our scores dataframe\n",
    "        score = df[df[\"school_id\"] == school_id][\"y\"]\n",
    "        \n",
    "        if len(score) == 0:\n",
    "            score = 0\n",
    "        else:\n",
    "            score = score.squeeze()        \n",
    "        \n",
    "        # Read in our image and normalize it by divding it by the maximum value (this normalization is super important!)\n",
    "        im = cv2.imread(file)\n",
    "        im = im / np.max(im)\n",
    "                \n",
    "        # Create a tuple with (image array, test score) and return it\n",
    "        ret = ( np.array(im), np.reshape(np.array(score), (-1, 1)) )\n",
    "        \n",
    "        yield ret\n",
    "\n",
    "\n",
    "def get_val():\n",
    "\n",
    "    \"\"\" Validation data generator \"\"\"\n",
    "\n",
    "    for file in val_files:\n",
    "        school_id = file.split(\"/\")[4].split(\"_\")[0]\n",
    "        score = df[df[\"school_id\"] == school_id][\"y\"]\n",
    "        \n",
    "        if len(score) == 0:\n",
    "            score = 0\n",
    "        else:\n",
    "            score = score.squeeze()        \n",
    "        \n",
    "        im = cv2.imread(file)\n",
    "        im = im / np.max(im)\n",
    "                \n",
    "        ret = ( np.array(im), np.reshape(np.array(score), (-1, 1)) )       \n",
    "        \n",
    "        yield ret"
   ]
  },
  {
   "cell_type": "markdown",
   "id": "c66c34fc",
   "metadata": {},
   "source": [
    "Read in our test scores dataframe"
   ]
  },
  {
   "cell_type": "code",
   "execution_count": 7,
   "id": "e19fb35e",
   "metadata": {},
   "outputs": [
    {
     "data": {
      "text/html": [
       "<div>\n",
       "<style scoped>\n",
       "    .dataframe tbody tr th:only-of-type {\n",
       "        vertical-align: middle;\n",
       "    }\n",
       "\n",
       "    .dataframe tbody tr th {\n",
       "        vertical-align: top;\n",
       "    }\n",
       "\n",
       "    .dataframe thead th {\n",
       "        text-align: right;\n",
       "    }\n",
       "</style>\n",
       "<table border=\"1\" class=\"dataframe\">\n",
       "  <thead>\n",
       "    <tr style=\"text-align: right;\">\n",
       "      <th></th>\n",
       "      <th>country</th>\n",
       "      <th>school_id</th>\n",
       "      <th>test_score</th>\n",
       "      <th>scaled_score</th>\n",
       "      <th>y</th>\n",
       "    </tr>\n",
       "  </thead>\n",
       "  <tbody>\n",
       "    <tr>\n",
       "      <th>0</th>\n",
       "      <td>phl</td>\n",
       "      <td>107022</td>\n",
       "      <td>105.30</td>\n",
       "      <td>35.583573</td>\n",
       "      <td>0</td>\n",
       "    </tr>\n",
       "    <tr>\n",
       "      <th>1</th>\n",
       "      <td>phl</td>\n",
       "      <td>107023</td>\n",
       "      <td>137.05</td>\n",
       "      <td>58.458213</td>\n",
       "      <td>1</td>\n",
       "    </tr>\n",
       "    <tr>\n",
       "      <th>2</th>\n",
       "      <td>phl</td>\n",
       "      <td>107024</td>\n",
       "      <td>142.39</td>\n",
       "      <td>62.305476</td>\n",
       "      <td>1</td>\n",
       "    </tr>\n",
       "    <tr>\n",
       "      <th>3</th>\n",
       "      <td>phl</td>\n",
       "      <td>107025</td>\n",
       "      <td>166.03</td>\n",
       "      <td>79.337176</td>\n",
       "      <td>1</td>\n",
       "    </tr>\n",
       "    <tr>\n",
       "      <th>4</th>\n",
       "      <td>phl</td>\n",
       "      <td>107026</td>\n",
       "      <td>152.81</td>\n",
       "      <td>69.812680</td>\n",
       "      <td>1</td>\n",
       "    </tr>\n",
       "  </tbody>\n",
       "</table>\n",
       "</div>"
      ],
      "text/plain": [
       "  country school_id  test_score  scaled_score  y\n",
       "0     phl    107022      105.30     35.583573  0\n",
       "1     phl    107023      137.05     58.458213  1\n",
       "2     phl    107024      142.39     62.305476  1\n",
       "3     phl    107025      166.03     79.337176  1\n",
       "4     phl    107026      152.81     69.812680  1"
      ]
     },
     "execution_count": 7,
     "metadata": {},
     "output_type": "execute_result"
    }
   ],
   "source": [
    "df = pd.read_csv(CSV_PATH)\n",
    "df.head()"
   ]
  },
  {
   "cell_type": "markdown",
   "id": "270c5004",
   "metadata": {},
   "source": [
    "Create a TensorFlow dataloader using the ```tf.data.Dataset.from_generator``` class"
   ]
  },
  {
   "cell_type": "code",
   "execution_count": 8,
   "id": "38b2f1f4",
   "metadata": {},
   "outputs": [
    {
     "name": "stdout",
     "output_type": "stream",
     "text": [
      "Number of image files for mex: 10173\n",
      "Number of training files:  7629\n",
      "Number of validation files:  2544\n"
     ]
    }
   ],
   "source": [
    "print(f\"Number of image files for {COUNTRY}: {str(len(files))}\")\n",
    "\n",
    "train_files, val_files = train_test_split(files, .75)\n",
    "\n",
    "train_dataset = tf.data.Dataset.from_generator(generator = get_train, output_types = (tf.float32, tf.float32)).batch(BATCH_SIZE)\n",
    "val_dataset = tf.data.Dataset.from_generator(generator = get_val, output_types = (tf.float32, tf.float32)).batch(BATCH_SIZE)\n",
    "\n",
    "print(\"Number of training files: \", len(train_files))\n",
    "print(\"Number of validation files: \", len(val_files))"
   ]
  },
  {
   "cell_type": "markdown",
   "id": "52730347",
   "metadata": {},
   "source": [
    "Create an compile our model using our selected parameters and metrics. In this case, I am using the BinaryCrossentropy Loss and a learning rate of 0.0001 along with the Adam optimizer."
   ]
  },
  {
   "cell_type": "code",
   "execution_count": 9,
   "id": "1eb29e7d",
   "metadata": {},
   "outputs": [],
   "source": [
    "model = resnet.resnet56(img_input = tf.keras.layers.Input((256, 256, 3)), classes = 2)\n",
    "\n",
    "model.compile(\n",
    "    optimizer = tf.keras.optimizers.Adam(learning_rate = 0.0001),\n",
    "    loss = tf.keras.losses.BinaryCrossentropy()\n",
    ")"
   ]
  },
  {
   "cell_type": "code",
   "execution_count": 10,
   "id": "35d70ea8",
   "metadata": {},
   "outputs": [],
   "source": [
    "# Create a callback that saves the model's weights every 5 epochs\n",
    "cp_callback = tf.keras.callbacks.ModelCheckpoint(\n",
    "    filepath=checkpoint_path, \n",
    "    verbose=1, \n",
    "    save_weights_only=True,\n",
    "    save_freq = 5 * BATCH_SIZE)\n",
    "\n",
    "# Save the weights using the `checkpoint_path` format\n",
    "model.save_weights(checkpoint_path.format(epoch=0))"
   ]
  },
  {
   "cell_type": "markdown",
   "id": "1fcd43d8",
   "metadata": {},
   "source": [
    "And finally, train your model!"
   ]
  },
  {
   "cell_type": "code",
   "execution_count": 11,
   "id": "a48fb4a3",
   "metadata": {},
   "outputs": [
    {
     "name": "stdout",
     "output_type": "stream",
     "text": [
      "Epoch 1/15\n",
      "120/120 [==============================] - 271s 2s/step - loss: 1.5383 - val_loss: 2.2917\n",
      "Epoch 2/15\n",
      "120/120 [==============================] - 240s 2s/step - loss: 1.4849 - val_loss: 1.4558\n",
      "Epoch 3/15\n",
      " 79/120 [==================>...........] - ETA: 1:10 - loss: 1.4352\n",
      "Epoch 00003: saving model to training/cp-0003.ckpt\n",
      "120/120 [==============================] - 245s 2s/step - loss: 1.4249 - val_loss: 1.4001\n",
      "Epoch 4/15\n",
      "120/120 [==============================] - 237s 2s/step - loss: 1.3640 - val_loss: 1.3444\n",
      "Epoch 5/15\n",
      "120/120 [==============================] - 232s 2s/step - loss: 1.3049 - val_loss: 1.2836\n",
      "Epoch 6/15\n",
      " 39/120 [========>.....................] - ETA: 2:20 - loss: 1.2675\n",
      "Epoch 00006: saving model to training/cp-0006.ckpt\n",
      "120/120 [==============================] - 231s 2s/step - loss: 1.2496 - val_loss: 1.2250\n",
      "Epoch 7/15\n",
      "120/120 [==============================] - 230s 2s/step - loss: 1.1984 - val_loss: 1.1743\n",
      "Epoch 8/15\n",
      "119/120 [============================>.] - ETA: 1s - loss: 1.1509\n",
      "Epoch 00008: saving model to training/cp-0008.ckpt\n",
      "120/120 [==============================] - 237s 2s/step - loss: 1.1509 - val_loss: 1.1287\n",
      "Epoch 9/15\n",
      "120/120 [==============================] - 231s 2s/step - loss: 1.1070 - val_loss: 1.0865\n",
      "Epoch 10/15\n",
      "120/120 [==============================] - 234s 2s/step - loss: 1.0669 - val_loss: 1.0491\n",
      "Epoch 11/15\n",
      " 79/120 [==================>...........] - ETA: 1:04 - loss: 1.0360\n",
      "Epoch 00011: saving model to training/cp-0011.ckpt\n",
      "120/120 [==============================] - 225s 2s/step - loss: 1.0302 - val_loss: 1.0143\n",
      "Epoch 12/15\n",
      "120/120 [==============================] - 234s 2s/step - loss: 0.9969 - val_loss: 0.9823\n",
      "Epoch 13/15\n",
      "120/120 [==============================] - 226s 2s/step - loss: 0.9672 - val_loss: 0.9542\n",
      "Epoch 14/15\n",
      " 39/120 [========>.....................] - ETA: 2:13 - loss: 0.9491\n",
      "Epoch 00014: saving model to training/cp-0014.ckpt\n",
      "120/120 [==============================] - 234s 2s/step - loss: 0.9406 - val_loss: 0.9298\n",
      "Epoch 15/15\n",
      "120/120 [==============================] - 217s 2s/step - loss: 0.9166 - val_loss: 0.9087\n"
     ]
    }
   ],
   "source": [
    "with tf.device('/device:GPU:0'):\n",
    "    \n",
    "    model.fit(train_dataset,\n",
    "               epochs = 15,\n",
    "               validation_data = val_dataset,\n",
    "               callbacks = [cp_callback],),"
   ]
  },
  {
   "cell_type": "code",
   "execution_count": 12,
   "id": "25943837",
   "metadata": {},
   "outputs": [
    {
     "name": "stdout",
     "output_type": "stream",
     "text": [
      "WARNING:tensorflow:From /opt/conda/envs/rapids/lib/python3.7/site-packages/tensorflow/python/training/tracking/tracking.py:111: Model.state_updates (from tensorflow.python.keras.engine.training) is deprecated and will be removed in a future version.\n",
      "Instructions for updating:\n",
      "This property should not be used in TensorFlow 2.0, as updates are applied automatically.\n",
      "WARNING:tensorflow:From /opt/conda/envs/rapids/lib/python3.7/site-packages/tensorflow/python/training/tracking/tracking.py:111: Layer.updates (from tensorflow.python.keras.engine.base_layer) is deprecated and will be removed in a future version.\n",
      "Instructions for updating:\n",
      "This property should not be used in TensorFlow 2.0, as updates are applied automatically.\n",
      "INFO:tensorflow:Assets written to: saved_model/my_model/assets\n"
     ]
    }
   ],
   "source": [
    "!mkdir -p saved_model\n",
    "model.save('saved_model/my_model')"
   ]
  },
  {
   "cell_type": "code",
   "execution_count": null,
   "id": "ac723220",
   "metadata": {},
   "outputs": [],
   "source": []
  }
 ],
 "metadata": {
  "kernelspec": {
   "display_name": "Python 3",
   "language": "python",
   "name": "python3"
  },
  "language_info": {
   "codemirror_mode": {
    "name": "ipython",
    "version": 3
   },
   "file_extension": ".py",
   "mimetype": "text/x-python",
   "name": "python",
   "nbconvert_exporter": "python",
   "pygments_lexer": "ipython3",
   "version": "3.7.10"
  }
 },
 "nbformat": 4,
 "nbformat_minor": 5
}
